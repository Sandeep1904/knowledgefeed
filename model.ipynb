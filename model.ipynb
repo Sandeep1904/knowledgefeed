{
 "cells": [
  {
   "cell_type": "code",
   "execution_count": 1,
   "metadata": {},
   "outputs": [],
   "source": [
    "from duckduckgo_search import DDGS\n"
   ]
  },
  {
   "cell_type": "code",
   "execution_count": 5,
   "metadata": {},
   "outputs": [
    {
     "name": "stdout",
     "output_type": "stream",
     "text": [
      "[{'date': '2025-02-14T09:02:00+00:00', 'title': \"I'd Be Stoked If Glen Powell Joined The DCU, But This Fan Art Envisioning Him As The Flash Is Not At All What I Had In Mind\", 'body': \"Frankly though, if I had to pick right now, I'd slot in Powell to play Booster Gold, who has his own TV show lined up. With DC Studios head James Gunn having already shut down t\", 'url': 'https://www.msn.com/en-us/entertainment/celebrities/i-d-be-stoked-if-glen-powell-joined-the-dcu-but-this-fan-art-envisioning-him-as-the-flash-is-not-at-all-what-i-had-in-mind/ar-AA1z1sNf', 'image': 'https://cdn.mos.cms.futurecdn.net/XgvBXade9nYB52DuRCU3ih-1200-80.jpg', 'source': 'CinemaBlend on MSN.com'}, {'date': '2025-02-14T01:45:00+00:00', 'title': \"Glen Powell Becomes The DC Universe's Newest Hero In Stunning The Flash Art\", 'body': \"As James Gunn's DC Universe has yet to cast a new actor for The Flash, Glen Powell gets imagined as the Scarlet Speedster through new superhero art.\", 'url': 'https://www.msn.com/en-us/movies/news/glen-powell-becomes-the-dc-universe-s-newest-hero-in-stunning-the-flash-art/ar-AA1z17GQ', 'image': 'https://img-s-msn-com.akamaized.net/tenant/amp/entityid/AA1z132h.img?w=1400&h=700&m=4&q=79', 'source': 'MSN'}, {'date': '2025-02-07T16:48:10+00:00', 'title': 'Glen Powell channels Fabio in Ram Super Bowl 2025 ad — with his real-life niece and nephew', 'body': \"Glen Powell channels his inner Fabio — and Goldilocks — in Ram's 2025 Super Bowl commercial as he reads a bedtime story to his real-life niece and nephew. The ad opens with a girl dressed as Goldilocks skipping in a forest as Powell, 36, narrates.\", 'url': 'https://www.msn.com/en-us/movies/news/glen-powell-channels-fabio-in-ram-super-bowl-2025-ad-with-his-real-life-niece-and-nephew/ar-AA1yBGm2', 'image': 'https://nypost.com/wp-content/uploads/sites/2/2025/02/98007339.jpg?quality=75&strip=all&w=1024', 'source': 'New York Post on MSN.com'}, {'date': '2025-02-13T18:53:00+00:00', 'title': '20 of the best romantic comedies to watch on Netflix', 'body': 'Skip the scrolling and check out this list of date-night-approved Hollywood classics and Netflix originals.', 'url': 'https://www.businessinsider.com/best-netflix-romantic-comedies-romcoms-to-watch', 'image': 'https://i.insider.com/67ae20776630eb10385c88be?width=1200&format=jpeg', 'source': 'Business Insider India'}, {'date': '2025-02-09T02:28:00+00:00', 'title': \"Ram is Heading Back to the 2025 Super Bowl With a Truck Lineup that is 'Just Right'\", 'body': 'As I have reported previously, Powell helped Ram debut the 2025 Ram 1500 RHO. He also starred in the movie TWISTERS which showcased the Ram 1500 RHO truck. Powell has earned a reputation as an action star, having been featured in \"Top Gun: Maverick\" and \"Twisters\".', 'url': 'https://www.torquenews.com/3768/ram-heading-back-2025-super-bowl-truck-lineup-just-right', 'image': 'https://www.torquenews.com/sites/default/files/styles/amp_1200x675_16_9/public/images/Ram+Super+Bowl+2025.jpg?itok=Sf43xP0o', 'source': 'Torque News'}]\n"
     ]
    }
   ],
   "source": [
    "results = DDGS().news(\"glen powell\", max_results=5)\n",
    "print(results)"
   ]
  },
  {
   "cell_type": "code",
   "execution_count": null,
   "metadata": {},
   "outputs": [],
   "source": []
  }
 ],
 "metadata": {
  "kernelspec": {
   "display_name": "venv",
   "language": "python",
   "name": "python3"
  },
  "language_info": {
   "codemirror_mode": {
    "name": "ipython",
    "version": 3
   },
   "file_extension": ".py",
   "mimetype": "text/x-python",
   "name": "python",
   "nbconvert_exporter": "python",
   "pygments_lexer": "ipython3",
   "version": "3.9.1"
  }
 },
 "nbformat": 4,
 "nbformat_minor": 2
}
