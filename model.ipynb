{
 "cells": [
  {
   "cell_type": "code",
   "execution_count": 7,
   "metadata": {},
   "outputs": [],
   "source": [
    "from duckduckgo_search import DDGS\n",
    "import json"
   ]
  },
  {
   "cell_type": "code",
   "execution_count": 12,
   "metadata": {},
   "outputs": [
    {
     "name": "stdout",
     "output_type": "stream",
     "text": [
      "{\n",
      "    \"title\": \"Spectral Graph Analysis: A Unified Explanation and Modern Perspectives\",\n",
      "    \"href\": \"https://arxiv.org/abs/1901.07090\",\n",
      "    \"body\": \"Complex networks or graphs are ubiquitous in sciences and engineering: biological networks, brain networks, transportation networks, social networks, and the World Wide Web, to name a few. Spectral graph theory provides a set of useful techniques and models for understanding `patterns of interconnectedness' in a graph. Our prime focus in this paper is on the following question: Is there a ...\"\n",
      "}\n",
      "\n",
      "{\n",
      "    \"title\": \"Spectral Graph Analysis: A Uni\\ufb01ed Explanation and Modern Perspectiv\",\n",
      "    \"href\": \"https://arxiv.org/pdf/1901.07090\",\n",
      "    \"body\": \"science. The achievement of this paper is to take a step towards answering this question by discovering a simple, yet universal statistical logic of spectral graph analysis. The prescribed viewpoint appears to be good enough to accommodate almost all existing spectral graph techniques as a consequence of just one single formalism and algorithm.\"\n",
      "}\n",
      "\n",
      "{\n",
      "    \"title\": \"Spectral Graph Theory, Molecular Graph Theory and Their Applications - MDPI\",\n",
      "    \"href\": \"https://www.mdpi.com/journal/axioms/special_issues/Spectral_and_Molecular_Graph_Theory\",\n",
      "    \"body\": \"The aim of this Special Issue is to publish original research articles focusing on spectral graph theory and the topological indices of graphs, as well as applications in these areas. To find new connections between the eigenvalues and eigenvectors of graphs and graph theory, parameters such as average degree, maximum degree, cliques, chromatic ...\"\n",
      "}\n",
      "\n",
      "{\n",
      "    \"title\": \"A brief introduction to Spectral Graph Theory\",\n",
      "    \"href\": \"https://ar5iv.labs.arxiv.org/html/1609.08072\",\n",
      "    \"body\": \"Spectral graph theory starts by associating matrices to graphs, notably, the adjacency matrix and the laplacian matrix. The general theme is then, firstly, to compute or estimate\"\n",
      "}\n",
      "\n",
      "{\n",
      "    \"title\": \"3808 PDFs | Review articles in SPECTRAL GRAPH THEORY - ResearchGate\",\n",
      "    \"href\": \"https://www.researchgate.net/topic/Spectral-Graph-Theory/publications\",\n",
      "    \"body\": \"Explore the latest full-text research PDFs, articles, conference papers, preprints and more on SPECTRAL GRAPH THEORY. Find methods information, sources, references or conduct a literature review ...\"\n",
      "}\n",
      "\n",
      "{\n",
      "    \"title\": \" Spectral Graph Theory and Matrix Tree Theorem\",\n",
      "    \"href\": \"https://math.uchicago.edu/~may/REU2024/REUPapers/Zou,Yi.pdf\",\n",
      "    \"body\": \"Abstract. Spectral graph theory is powerful in studying graphs via linear al-gebra. The first half of this paper introduces readers to concepts and examples of graphs, reviews needed linear algebra knowledge, defines several important matrices in spectral graph theory, and explores properties of the Laplacian matrix.\"\n",
      "}\n",
      "\n",
      "{\n",
      "    \"title\": \" SPECTRAL GRAPH THEORY - University of Chicago\",\n",
      "    \"href\": \"https://math.uchicago.edu/~may/REU2019/REUPapers/Purple.pdf\",\n",
      "    \"body\": \"SPECTRAL GRAPH THEORY NICHOLAS PURPLE Abstract. This paper is an introduction to certain topics in graph theory, spectral graph theory, and random walks. We begin with basic de nitions in graph theory, moving then to topics in linear algebra that are necessary to study the spectra of graphs. Then, nally, to basic results of the graph's\"\n",
      "}\n",
      "\n",
      "{\n",
      "    \"title\": \"[1609.08072] A brief introduction to Spectral Graph Theory - arXiv.org\",\n",
      "    \"href\": \"https://arxiv.org/abs/1609.08072\",\n",
      "    \"body\": \"Abstract page for arXiv paper 1609.08072: A brief introduction to Spectral Graph Theory. Expanded lecture notes. Preliminary version, comments are welcome. ... View a PDF of the paper titled A brief introduction to Spectral Graph Theory, by Bogdan Nica. View PDF; TeX Source; Other Formats; view license. Current browse context: math.CO < prev ...\"\n",
      "}\n",
      "\n",
      "{\n",
      "    \"title\": \"[2305.10290v1] Unsolved Problems in Spectral Graph Theory - arXiv\",\n",
      "    \"href\": \"http://export.arxiv.org/abs/2305.10290v1\",\n",
      "    \"body\": \"Abstract: Spectral graph theory is a captivating area of graph theory that employs the eigenvalues and eigenvectors of matrices associated with graphs to study them. In this paper, we present a collection of $20$ topics in spectral graph theory, covering a range of open problems and conjectures. Our focus is primarily on the adjacency matrix of graphs, and for each topic, we provide a brief ...\"\n",
      "}\n",
      "\n",
      "{\n",
      "    \"title\": \"[2305.10290] Unsolved Problems in Spectral Graph Theory - arXiv.org\",\n",
      "    \"href\": \"https://arxiv.org/abs/2305.10290\",\n",
      "    \"body\": \"Spectral graph theory is a captivating area of graph theory that employs the eigenvalues and eigenvectors of matrices associated with graphs to study them. In this paper, we present a collection of $20$ topics in spectral graph theory, covering a range of open problems and conjectures. Our focus is primarily on the adjacency matrix of graphs, and for each topic, we provide a brief historical ...\"\n",
      "}\n",
      "\n"
     ]
    }
   ],
   "source": [
    "results = DDGS().text(\"top 10 basic research papers on specteral graph theory on arxiv.org\", max_results=10)\n",
    "for result in results:\n",
    "    print(json.dumps(result, indent=4))\n",
    "    print()"
   ]
  },
  {
   "cell_type": "code",
   "execution_count": null,
   "metadata": {},
   "outputs": [],
   "source": []
  }
 ],
 "metadata": {
  "kernelspec": {
   "display_name": "venv",
   "language": "python",
   "name": "python3"
  },
  "language_info": {
   "codemirror_mode": {
    "name": "ipython",
    "version": 3
   },
   "file_extension": ".py",
   "mimetype": "text/x-python",
   "name": "python",
   "nbconvert_exporter": "python",
   "pygments_lexer": "ipython3",
   "version": "3.9.1"
  }
 },
 "nbformat": 4,
 "nbformat_minor": 2
}
